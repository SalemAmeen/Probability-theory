{
 "cells": [
  {
   "cell_type": "markdown",
   "metadata": {},
   "source": [
    "# PROBABILITY THEORY\n",
    "\n",
    "    BSC (HONS) Mathematics Department\n",
    "    BSC (HONS) Financial Mathematics Department\n",
    "    BSC (HONS) Computer Science with Data Analysis Department\n",
    "\n",
    "\n",
    "## Instructor\n",
    "\n",
    "    Dr. Salem Ameen\n",
    "    Mathematics Department\n",
    "    School of Science, Engineering and Environment\n",
    "    The University of Salford \n",
    "    \n",
    "    \n",
    "## Lecture 1\n",
    "\n",
    "______________________________________________________________________________"
   ]
  },
  {
   "cell_type": "markdown",
   "metadata": {},
   "source": [
    "## Venn Diagram"
   ]
  },
  {
   "cell_type": "markdown",
   "metadata": {},
   "source": [
    "\n",
    "#### Given\n",
    "\n",
    "$S = \\{-1, 0, 1, 2, 3,4,5,20,90\\}$, $ A = \\{1, 2, 3,4,5\\}$, $ B = \\{0, 2, -1, 5,7\\} $ and $C = \\{20,90\\}$\n",
    "\n",
    "#### Find :\n",
    "\n",
    "$|A|, |B|, |C|$ and $|S|$\n",
    "\n",
    "\n",
    "$𝐴∩𝐵, 𝐴∩C, 𝐴∩D, 𝐴∩S, 𝐴∪𝐵, 𝐴∪𝐶, 𝐴∪𝐵∪𝐶, 𝐴−𝐶,𝐴−𝐵, 𝐴 ∆ 𝐵$\n",
    "\n",
    "\n",
    "$|𝐴∩𝐵|, |𝐴∪𝐵∪𝐶|$\n",
    "\n",
    "\n",
    "$𝐴^𝑐, 𝐵^𝑐 , (𝐴∪𝐵)^𝑐,   𝐴^𝑐∩𝐵^𝑐 $\n",
    "\n",
    "\n",
    "Is $𝐴,𝐵, C, D ⊆𝑆 $\n"
   ]
  },
  {
   "cell_type": "code",
   "execution_count": 2,
   "metadata": {},
   "outputs": [
    {
     "data": {
      "image/png": "[encoded data removed]",
      "text/plain": [
       "<Figure size 432x288 with 1 Axes>"
      ]
     },
     "metadata": {},
     "output_type": "display_data"
    }
   ],
   "source": [
    "import matplotlib.pyplot as plt\n",
    "import matplotlib_venn as venn\n",
    "S = {-1, 0, 1, 2, 3,4,5,7, 20,90}\n",
    "A = {1, 2, 3,4,5}\n",
    "B = {0, 2, -1, 5,7}\n",
    "C = {20,90}\n",
    "D = {100}\n",
    "venn.venn3([A, B, C], set_labels=('A','B', 'C'))\n",
    "plt.show()"
   ]
  },
  {
   "cell_type": "markdown",
   "metadata": {},
   "source": [
    "$|A|, |B|, |C|$ and $|S|$"
   ]
  },
  {
   "cell_type": "code",
   "execution_count": 3,
   "metadata": {},
   "outputs": [
    {
     "name": "stdout",
     "output_type": "stream",
     "text": [
      "|A| =  5\n",
      "|B| =  5\n",
      "|C| =  2\n",
      "|S| =  10\n"
     ]
    }
   ],
   "source": [
    "print(\"|A| = \", len(A))\n",
    "print(\"|B| = \", len(B))\n",
    "print(\"|C| = \", len(C))\n",
    "print(\"|S| = \", len(S))"
   ]
  },
  {
   "cell_type": "markdown",
   "metadata": {},
   "source": [
    "$𝐴∩𝐵, 𝐴∩C, 𝐴∩D, 𝐴∩S, 𝐴∪𝐵, 𝐴∪𝐶, 𝐴∪𝐵∪𝐶, 𝐴−𝐶,𝐴−𝐵, 𝐴 ∆ 𝐵$"
   ]
  },
  {
   "cell_type": "code",
   "execution_count": 4,
   "metadata": {},
   "outputs": [
    {
     "name": "stdout",
     "output_type": "stream",
     "text": [
      "𝐴∩𝐵 =  {2, 5}\n",
      "𝐴∩C =  set()\n",
      "𝐴∩D =  set()\n",
      "𝐴∩S =  {1, 2, 3, 4, 5}\n",
      "𝐴∪B =  {0, 1, 2, 3, 4, 5, 7, -1}\n",
      "𝐴∪C =  {1, 2, 3, 4, 5, 20, 90}\n",
      "𝐴∪B∪C =  {0, 1, 2, 3, 4, 5, 7, 20, 90, -1}  = S\n",
      "𝐴-C =  {1, 2, 3, 4, 5}\n",
      "𝐴-B =  {1, 3, 4}\n",
      "𝐴∆B =  {0, 1, 3, 4, 7, -1}\n"
     ]
    }
   ],
   "source": [
    "print(\"𝐴∩𝐵 = \", A.intersection(B))\n",
    "print(\"𝐴∩C = \", A&C)        # & = intersection\n",
    "print(\"𝐴∩D = \", A.intersection(D))\n",
    "print(\"𝐴∩S = \", A.intersection(S))\n",
    "print(\"𝐴∪B = \", A.union(B))\n",
    "print(\"𝐴∪C = \", A|C)       # | = union\n",
    "print(\"𝐴∪B∪C = \", A|B|C, \" = S\")\n",
    "print(\"𝐴-C = \", A-C)       \n",
    "print(\"𝐴-B = \", A-B)       \n",
    "print(\"𝐴∆B = \", A^B)       "
   ]
  },
  {
   "cell_type": "markdown",
   "metadata": {},
   "source": [
    "_Becareful, in python the '&' is not same 'and'. 'or' is not same '|'. & means intersection and | means union_ "
   ]
  },
  {
   "cell_type": "code",
   "execution_count": 5,
   "metadata": {},
   "outputs": [
    {
     "name": "stdout",
     "output_type": "stream",
     "text": [
      "𝐴|C =  {1, 2, 3, 4, 5, 20, 90}\n",
      "𝐴 or C =  {1, 2, 3, 4, 5}\n",
      "𝐴 & B =  {2, 5}\n",
      "𝐴 and B =  {90, 20}\n"
     ]
    }
   ],
   "source": [
    "print(\"𝐴|C = \", A|C) \n",
    "print(\"𝐴 or C = \", A or C) \n",
    "print(\"𝐴 & B = \", A&B) \n",
    "print(\"𝐴 and B = \", A and C) "
   ]
  },
  {
   "cell_type": "markdown",
   "metadata": {},
   "source": [
    "$|𝐴∩𝐵|, |𝐴∪𝐵∪𝐶|$"
   ]
  },
  {
   "cell_type": "code",
   "execution_count": 6,
   "metadata": {},
   "outputs": [
    {
     "name": "stdout",
     "output_type": "stream",
     "text": [
      "|𝐴∩𝐵| =  2\n",
      "|𝐴∪𝐵∪𝐶| =  10\n"
     ]
    }
   ],
   "source": [
    "print(\"|𝐴∩𝐵| = \", len(A&B))\n",
    "print(\"|𝐴∪𝐵∪𝐶| = \", len(A|B|C))"
   ]
  },
  {
   "cell_type": "markdown",
   "metadata": {},
   "source": [
    "$𝐴^𝑐, 𝐵^𝑐 , (𝐴∪𝐵)^𝑐,   𝐴^𝑐∩𝐵^𝑐 $"
   ]
  },
  {
   "cell_type": "code",
   "execution_count": 7,
   "metadata": {},
   "outputs": [
    {
     "name": "stdout",
     "output_type": "stream",
     "text": [
      "complement of A =  5\n",
      "complement of B =  5\n",
      "complement of 𝐴∪𝐵 =  2\n",
      "(complement of 𝐴)  ∩ (complement of B) =  2\n"
     ]
    }
   ],
   "source": [
    "print(\"complement of A = \", len(S-A))\n",
    "print(\"complement of B = \", len(S-B))\n",
    "print(\"complement of 𝐴∪𝐵 = \", len(S-(𝐴|𝐵)))\n",
    "print(\"(complement of 𝐴)  ∩ (complement of B) = \", len((S-A)&(S-B)))\n"
   ]
  },
  {
   "cell_type": "markdown",
   "metadata": {},
   "source": [
    "Is $𝐴,𝐵, C, D ⊆𝑆 $"
   ]
  },
  {
   "cell_type": "code",
   "execution_count": 8,
   "metadata": {},
   "outputs": [
    {
     "name": "stdout",
     "output_type": "stream",
     "text": [
      "Is 𝐴⊆S :  True\n",
      "Is S⊇A :  True\n",
      "Is B⊆S :  True\n",
      "Is S⊇B :  True\n",
      "Is D⊆S :  False\n",
      "Is S⊇D :  False\n"
     ]
    }
   ],
   "source": [
    "print(\"Is 𝐴⊆S : \", A.issubset(S))\n",
    "print(\"Is S⊇A : \", S.issuperset(A))\n",
    "print(\"Is B⊆S : \", B.issubset(S))\n",
    "print(\"Is S⊇B : \", S.issuperset(B))\n",
    "print(\"Is D⊆S : \", D.issubset(S))\n",
    "print(\"Is S⊇D : \", S.issuperset(D))"
   ]
  }
 ],
 "metadata": {
  "kernelspec": {
   "display_name": "Python 3",
   "language": "python",
   "name": "python3"
  },
  "language_info": {
   "codemirror_mode": {
    "name": "ipython",
    "version": 3
   },
   "file_extension": ".py",
   "mimetype": "text/x-python",
   "name": "python",
   "nbconvert_exporter": "python",
   "pygments_lexer": "ipython3",
   "version": "3.7.4"
  }
 },
 "nbformat": 4,
 "nbformat_minor": 2
}
